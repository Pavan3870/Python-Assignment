{
 "cells": [
  {
   "cell_type": "code",
   "execution_count": 9,
   "id": "9f2e469f",
   "metadata": {},
   "outputs": [
    {
     "name": "stdout",
     "output_type": "stream",
     "text": [
      "{0: 'Pavan'}\n",
      "{1: 'Prasanth'}\n",
      "{2: 'Raju'}\n",
      "{3: 'Vinay'}\n"
     ]
    }
   ],
   "source": [
    "# ENUMERATE\n",
    "def fun(lst):\n",
    "    return dict([(i, a)])\n",
    "for i, a in enumerate(lst):\n",
    "    lst = ['Pavan', 'Prasanth', 'Raju', 'Vinay']\n",
    "    dct = fun(lst)\n",
    "    print(dct)"
   ]
  },
  {
   "cell_type": "code",
   "execution_count": 10,
   "id": "9df32b4b",
   "metadata": {},
   "outputs": [
    {
     "name": "stdout",
     "output_type": "stream",
     "text": [
      "{0: 'Pavan', 1: 'Prasanth', 2: 'Raju', 3: 'Vinay'}\n"
     ]
    }
   ],
   "source": [
    "def fun(lst):\n",
    "    return dict([(i, a) for i, a in enumerate(lst)])\n",
    "lst =['Pavan', 'Prasanth', 'Raju', 'Vinay']\n",
    "dct = fun(lst)\n",
    "print(dct)"
   ]
  },
  {
   "cell_type": "code",
   "execution_count": null,
   "id": "4230959f",
   "metadata": {},
   "outputs": [],
   "source": []
  }
 ],
 "metadata": {
  "kernelspec": {
   "display_name": "Python 3 (ipykernel)",
   "language": "python",
   "name": "python3"
  },
  "language_info": {
   "codemirror_mode": {
    "name": "ipython",
    "version": 3
   },
   "file_extension": ".py",
   "mimetype": "text/x-python",
   "name": "python",
   "nbconvert_exporter": "python",
   "pygments_lexer": "ipython3",
   "version": "3.9.13"
  }
 },
 "nbformat": 4,
 "nbformat_minor": 5
}
